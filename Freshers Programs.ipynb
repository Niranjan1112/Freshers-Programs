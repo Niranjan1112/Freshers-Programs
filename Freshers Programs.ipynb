{
 "cells": [
  {
   "cell_type": "code",
   "execution_count": 86,
   "id": "3b5891fc",
   "metadata": {},
   "outputs": [
    {
     "data": {
      "text/plain": [
       "'/home/niranjan/Desktop/SecureKloud'"
      ]
     },
     "execution_count": 86,
     "metadata": {},
     "output_type": "execute_result"
    }
   ],
   "source": [
    "pwd"
   ]
  },
  {
   "cell_type": "markdown",
   "id": "8ea3f7a7",
   "metadata": {},
   "source": [
    "### DAY - 1"
   ]
  },
  {
   "cell_type": "code",
   "execution_count": 17,
   "id": "16041384",
   "metadata": {},
   "outputs": [
    {
     "name": "stdout",
     "output_type": "stream",
     "text": [
      "Enter text : hi im from file 1\n",
      "Enter file path :/home/niranjan/Desktop/SecureKloud/sample.txt\n"
     ]
    }
   ],
   "source": [
    "# 1\n",
    "\n",
    "text = input('Enter text : ')  \n",
    "file_path = input('Enter file path :')\n",
    "\n",
    "fp = open(file_path, 'w')\n",
    "fp.write(text)\n",
    "fp.close()"
   ]
  },
  {
   "cell_type": "code",
   "execution_count": 19,
   "id": "5d8f07cf",
   "metadata": {},
   "outputs": [
    {
     "name": "stdout",
     "output_type": "stream",
     "text": [
      "hi im from file 1\n"
     ]
    }
   ],
   "source": [
    "read_file = open(file_path, 'r')\n",
    "print(read_file.read())"
   ]
  },
  {
   "cell_type": "code",
   "execution_count": 20,
   "id": "fdb4ee32",
   "metadata": {},
   "outputs": [],
   "source": [
    "f = open('/home/niranjan/Desktop/SecureKloud/sample2.txt', 'w')\n",
    "f.write('I am from file 2')\n",
    "f.close()"
   ]
  },
  {
   "cell_type": "code",
   "execution_count": 21,
   "id": "f791cc59",
   "metadata": {},
   "outputs": [],
   "source": [
    "f2 = open('/home/niranjan/Desktop/SecureKloud/sample3.txt', 'w')\n",
    "f2.write('I am from file 3')\n",
    "f2.close()"
   ]
  },
  {
   "cell_type": "code",
   "execution_count": 22,
   "id": "f26cdac4",
   "metadata": {},
   "outputs": [],
   "source": [
    "f3 = open('/home/niranjan/Desktop/SecureKloud/sample4.txt', 'w')\n",
    "f3.write('I am from file 4')\n",
    "f3.close()"
   ]
  },
  {
   "cell_type": "code",
   "execution_count": 23,
   "id": "7f5482d3",
   "metadata": {},
   "outputs": [
    {
     "name": "stdout",
     "output_type": "stream",
     "text": [
      "Enter folder path: /home/niranjan/Desktop/SecureKloud/\n",
      "I am from file 4\n",
      "I am from file 4\n",
      "\n",
      "I am from file 3\n",
      "Hi I am from file 1\n",
      "I am from file 2\n",
      "\n",
      "I am from file 3\n",
      "hi im from file 1\n",
      "I am from file 2\n",
      "\n"
     ]
    }
   ],
   "source": [
    "# 2\n",
    "\n",
    "import os\n",
    "\n",
    "files = []\n",
    "input_path = input('Enter folder path: ')\n",
    "for i in os.listdir(input_path):\n",
    "    if i.endswith('.txt'):\n",
    "        files.append(i)\n",
    "\n",
    "content = ''\n",
    "\n",
    "for j in files:\n",
    "    fp = open(input_path+j, 'r')\n",
    "    data = fp.read()\n",
    "    data = data+'\\n'\n",
    "    content+=data\n",
    "    \n",
    "\n",
    "output_file = open('/home/niranjan/Desktop/SecureKloud/output_file.txt', 'w')\n",
    "output_file.write(content)\n",
    "output_file.close()\n",
    "\n",
    "read_output = open('/home/niranjan/Desktop/SecureKloud/output_file.txt', 'r')\n",
    "print(read_output.read())"
   ]
  },
  {
   "cell_type": "markdown",
   "id": "6a05c02a",
   "metadata": {},
   "source": [
    "### DAY 2"
   ]
  },
  {
   "cell_type": "code",
   "execution_count": 53,
   "id": "704d97b1",
   "metadata": {},
   "outputs": [],
   "source": [
    "# 1\n",
    "\n",
    "import csv\n",
    "import json\n",
    "\n",
    "data = []\n",
    "input_csv = open('/home/niranjan/Desktop/SecureKloud/emp_details.csv', 'r')\n",
    "reader = csv.DictReader(input_csv)\n",
    "for i in reader:\n",
    "    data.append(i)\n",
    "    \n",
    "json_file = open('emp_details.json', 'a')\n",
    "json.dump(data, json_file)"
   ]
  },
  {
   "cell_type": "code",
   "execution_count": 54,
   "id": "b29b7188",
   "metadata": {},
   "outputs": [
    {
     "name": "stdout",
     "output_type": "stream",
     "text": [
      "[{\"Name\": \"Niranjan\", \"Gender\": \"m\", \"Age\": \"21\"}, {\"Name\": \"Mahendar\", \"Gender\": \"m\", \"Age\": \"22\"}, {\"Name\": \"Vel\", \"Gender\": \"m\", \"Age\": \"20\"}, {\"Name\": \"Jayanth\", \"Gender\": \"m\", \"Age\": \"20\"}]\n"
     ]
    }
   ],
   "source": [
    "read_json = open('emp_details.json', 'r')\n",
    "print(read_json.read())"
   ]
  },
  {
   "cell_type": "code",
   "execution_count": 68,
   "id": "60a65cdb",
   "metadata": {},
   "outputs": [
    {
     "name": "stdout",
     "output_type": "stream",
     "text": [
      "Enter file name: /home/niranjan/Desktop/SecureKloud/emp_details.csv\n",
      "['Name', 'Gender', 'Age']\n",
      "['Niranjan', 'm', '21']\n",
      "['Mahendar', 'm', '22']\n",
      "['Vel', 'm', '20']\n",
      "['Jayanth', 'm', '20']\n"
     ]
    }
   ],
   "source": [
    "# 2 - logging functionality\n",
    "\n",
    "import csv\n",
    "import logging\n",
    "\n",
    "logging.basicConfig(filename='my_log2.log', level=logging.DEBUG,\n",
    "                    format='%(asctime)s - %(levelname)s - %(message)s')\n",
    "\n",
    "def file_working(file):\n",
    "    data = open(file, 'r')\n",
    "    try:\n",
    "        read_file = open(file, 'r')\n",
    "        data = csv.reader(read_file)\n",
    "        for i in data:\n",
    "            print(i)\n",
    "        logging.info('File accessed')\n",
    "    except:\n",
    "        logging.error('File not opening')\n",
    "    \n",
    "file_path = input('Enter file name: ')\n",
    "file_working(file_path)\n",
    "\n",
    "logging.debug('This is a debug message')\n",
    "logging.info('This is an info message')\n",
    "logging.warning('This is a warning message')\n",
    "logging.error('This is an error message')\n",
    "logging.critical('This is a critical message')"
   ]
  },
  {
   "cell_type": "markdown",
   "id": "9b764210",
   "metadata": {},
   "source": [
    "### DAY 3"
   ]
  },
  {
   "cell_type": "code",
   "execution_count": 19,
   "id": "94364289",
   "metadata": {},
   "outputs": [
    {
     "name": "stdout",
     "output_type": "stream",
     "text": [
      "       name  gender   age\n",
      "0  niranjan       m    21\n",
      "1  mahendar       m    22\n",
      "2       vel       m    21\n",
      "3   jayanth       m    16\n",
      "4     mukul       m    15\n"
     ]
    }
   ],
   "source": [
    "import pandas as pd\n",
    "\n",
    "data1 = pd.read_csv('/home/niranjan/Desktop/SecureKloud/employee1.csv')\n",
    "print(data1)"
   ]
  },
  {
   "cell_type": "code",
   "execution_count": 20,
   "id": "c110f3d2",
   "metadata": {},
   "outputs": [
    {
     "name": "stdout",
     "output_type": "stream",
     "text": [
      "       name   years\n",
      "0  niranjan       2\n",
      "1  mahendar       3\n",
      "2       vel       4\n",
      "3   jayanth       5\n",
      "4     mukul       6\n"
     ]
    }
   ],
   "source": [
    "data2 = pd.read_csv('/home/niranjan/Desktop/SecureKloud/employee2.csv')\n",
    "print(data2)"
   ]
  },
  {
   "cell_type": "code",
   "execution_count": 21,
   "id": "e7a79644",
   "metadata": {},
   "outputs": [
    {
     "name": "stdout",
     "output_type": "stream",
     "text": [
      "       name  gender   age   years\n",
      "0  niranjan       m    21       2\n",
      "1  mahendar       m    22       3\n",
      "2       vel       m    21       4\n",
      "3   jayanth       m    16       5\n",
      "4     mukul       m    15       6\n"
     ]
    }
   ],
   "source": [
    "data3 = pd.merge(data1, data2,how='inner')\n",
    "print(data3)"
   ]
  },
  {
   "cell_type": "code",
   "execution_count": 22,
   "id": "5c10db54",
   "metadata": {},
   "outputs": [],
   "source": [
    "data3.to_csv('/home/niranjan/Desktop/SecureKloud/EmployeeDetails.csv')"
   ]
  },
  {
   "cell_type": "code",
   "execution_count": 23,
   "id": "b77e1413",
   "metadata": {},
   "outputs": [
    {
     "name": "stdout",
     "output_type": "stream",
     "text": [
      "       name  gender   age   years\n",
      "0  niranjan       m    21       2\n",
      "1  mahendar       m    22       3\n",
      "2       vel       m    21       4\n",
      "3   jayanth       m    16       5\n",
      "4     mukul       m    15       6\n"
     ]
    }
   ],
   "source": [
    "df = pd.read_csv('/home/niranjan/Desktop/SecureKloud/EmployeeDetails.csv', index_col=0)\n",
    "print(df)"
   ]
  },
  {
   "cell_type": "code",
   "execution_count": 24,
   "id": "b0d95f2f",
   "metadata": {},
   "outputs": [
    {
     "name": "stdout",
     "output_type": "stream",
     "text": [
      "       name   january   feb   march   april  \n",
      "0  niranjan         6   8.0       9        10\n",
      "1  mahendar         7   7.5       8         9\n",
      "2       vel         8   8.0       9         9\n",
      "3   jayanth         9  10.0       6         7\n",
      "4     mukul        10   6.0       7         9\n"
     ]
    }
   ],
   "source": [
    "# 2\n",
    "\n",
    "emp_data = pd.read_csv('/home/niranjan/Desktop/SecureKloud/EmployeeDetails.csv')\n",
    "emp_performance = pd.read_csv('/home/niranjan/Desktop/SecureKloud/emp_performance.csv')\n",
    "print(emp_performance)"
   ]
  },
  {
   "cell_type": "code",
   "execution_count": 25,
   "id": "fee0f2ec",
   "metadata": {},
   "outputs": [
    {
     "name": "stdout",
     "output_type": "stream",
     "text": [
      "       name   january   feb   march   april    avg performance\n",
      "0  niranjan         6   8.0       9        10             8.25\n",
      "1  mahendar         7   7.5       8         9             7.88\n",
      "2       vel         8   8.0       9         9             8.50\n",
      "3   jayanth         9  10.0       6         7             8.00\n",
      "4     mukul        10   6.0       7         9             8.00\n"
     ]
    }
   ],
   "source": [
    "avg_performance = []\n",
    "for i in range(0, len(emp_performance['name'])):\n",
    "    mean = round(emp_performance.iloc[i,1:].mean(), 2)\n",
    "    avg_performance.append(mean)\n",
    "    \n",
    "emp_performance['avg performance'] = avg_performance\n",
    "print(emp_performance)"
   ]
  },
  {
   "cell_type": "code",
   "execution_count": 26,
   "id": "8baa9011",
   "metadata": {},
   "outputs": [
    {
     "name": "stdout",
     "output_type": "stream",
     "text": [
      "   Employee  Avg Performance\n",
      "0  niranjan             8.25\n",
      "1  mahendar             7.88\n",
      "2       vel             8.50\n",
      "3   jayanth             8.00\n",
      "4     mukul             8.00\n"
     ]
    }
   ],
   "source": [
    "import pandas as pd\n",
    "\n",
    "output_file = pd.DataFrame({'Employee': emp_performance['name'], 'Avg Performance': emp_performance['avg performance']})\n",
    "print(output_file)\n",
    "output_file.to_csv('emp_avg_performance')"
   ]
  },
  {
   "cell_type": "markdown",
   "id": "34306c44",
   "metadata": {},
   "source": [
    "### DAY - 4"
   ]
  },
  {
   "cell_type": "code",
   "execution_count": 28,
   "id": "c2950f54",
   "metadata": {},
   "outputs": [
    {
     "data": {
      "text/html": [
       "<div>\n",
       "<style scoped>\n",
       "    .dataframe tbody tr th:only-of-type {\n",
       "        vertical-align: middle;\n",
       "    }\n",
       "\n",
       "    .dataframe tbody tr th {\n",
       "        vertical-align: top;\n",
       "    }\n",
       "\n",
       "    .dataframe thead th {\n",
       "        text-align: right;\n",
       "    }\n",
       "</style>\n",
       "<table border=\"1\" class=\"dataframe\">\n",
       "  <thead>\n",
       "    <tr style=\"text-align: right;\">\n",
       "      <th></th>\n",
       "      <th>Avg Performance</th>\n",
       "    </tr>\n",
       "  </thead>\n",
       "  <tbody>\n",
       "    <tr>\n",
       "      <th>count</th>\n",
       "      <td>5.000000</td>\n",
       "    </tr>\n",
       "    <tr>\n",
       "      <th>mean</th>\n",
       "      <td>8.126000</td>\n",
       "    </tr>\n",
       "    <tr>\n",
       "      <th>std</th>\n",
       "      <td>0.248757</td>\n",
       "    </tr>\n",
       "    <tr>\n",
       "      <th>min</th>\n",
       "      <td>7.880000</td>\n",
       "    </tr>\n",
       "    <tr>\n",
       "      <th>25%</th>\n",
       "      <td>8.000000</td>\n",
       "    </tr>\n",
       "    <tr>\n",
       "      <th>50%</th>\n",
       "      <td>8.000000</td>\n",
       "    </tr>\n",
       "    <tr>\n",
       "      <th>75%</th>\n",
       "      <td>8.250000</td>\n",
       "    </tr>\n",
       "    <tr>\n",
       "      <th>max</th>\n",
       "      <td>8.500000</td>\n",
       "    </tr>\n",
       "  </tbody>\n",
       "</table>\n",
       "</div>"
      ],
      "text/plain": [
       "       Avg Performance\n",
       "count         5.000000\n",
       "mean          8.126000\n",
       "std           0.248757\n",
       "min           7.880000\n",
       "25%           8.000000\n",
       "50%           8.000000\n",
       "75%           8.250000\n",
       "max           8.500000"
      ]
     },
     "execution_count": 28,
     "metadata": {},
     "output_type": "execute_result"
    }
   ],
   "source": [
    "output_file.describe()"
   ]
  },
  {
   "cell_type": "code",
   "execution_count": 29,
   "id": "725c5141",
   "metadata": {},
   "outputs": [
    {
     "name": "stdout",
     "output_type": "stream",
     "text": [
      "0    niranjan\n",
      "2         vel\n",
      "Name: Employee, dtype: object\n"
     ]
    }
   ],
   "source": [
    "filtered_data = output_file.loc[output_file['Avg Performance'] > 8, 'Employee'] # filter\n",
    "print(filtered_data)"
   ]
  },
  {
   "cell_type": "code",
   "execution_count": 30,
   "id": "fd63fe9c",
   "metadata": {},
   "outputs": [
    {
     "name": "stdout",
     "output_type": "stream",
     "text": [
      "       name  gender   age   years\n",
      "0  niranjan       m    21       2\n",
      "1  mahendar       m    22       3\n",
      "2       vel       m    21       4\n",
      "3   jayanth       m    16       5\n",
      "4     mukul       m    15       6\n"
     ]
    }
   ],
   "source": [
    "print(data3)"
   ]
  },
  {
   "cell_type": "code",
   "execution_count": 32,
   "id": "8b796b77",
   "metadata": {},
   "outputs": [
    {
     "data": {
      "text/plain": [
       "0    niranjan\n",
       "1    mahendar\n",
       "2         vel\n",
       "3     jayanth\n",
       "4       mukul\n",
       "Name: name, dtype: object"
      ]
     },
     "execution_count": 32,
     "metadata": {},
     "output_type": "execute_result"
    }
   ],
   "source": [
    "data3.loc[:, 'name']"
   ]
  },
  {
   "cell_type": "code",
   "execution_count": 204,
   "id": "4f7664ee",
   "metadata": {},
   "outputs": [
    {
     "name": "stdout",
     "output_type": "stream",
     "text": [
      "       name  gender   age   years\n",
      "0  niranjan       m    21       2\n",
      "1  mahendar       m    22       3\n",
      "2       vel       m    21       4\n",
      "3   jayanth       m    16       5\n",
      "4     mukul       m    15       6\n"
     ]
    }
   ],
   "source": [
    "data = pd.read_csv('EmployeeDetails.csv')\n",
    "print(data)"
   ]
  },
  {
   "cell_type": "code",
   "execution_count": 205,
   "id": "262f0e26",
   "metadata": {},
   "outputs": [
    {
     "data": {
      "text/plain": [
       "5"
      ]
     },
     "execution_count": 205,
     "metadata": {},
     "output_type": "execute_result"
    }
   ],
   "source": [
    "data['name'].count()"
   ]
  },
  {
   "cell_type": "code",
   "execution_count": 206,
   "id": "a98a50eb",
   "metadata": {},
   "outputs": [
    {
     "data": {
      "text/plain": [
       "(5, 4)"
      ]
     },
     "execution_count": 206,
     "metadata": {},
     "output_type": "execute_result"
    }
   ],
   "source": [
    "data.shape"
   ]
  },
  {
   "cell_type": "code",
   "execution_count": 207,
   "id": "d8f5848b",
   "metadata": {},
   "outputs": [
    {
     "name": "stdout",
     "output_type": "stream",
     "text": [
      "name       0\n",
      " gender    0\n",
      " age       0\n",
      " years     0\n",
      "dtype: int64\n"
     ]
    }
   ],
   "source": [
    "print(data.isnull().sum())  # no null values"
   ]
  },
  {
   "cell_type": "code",
   "execution_count": 151,
   "id": "efe102a9",
   "metadata": {},
   "outputs": [
    {
     "data": {
      "text/plain": [
       "40.629999999999995"
      ]
     },
     "execution_count": 151,
     "metadata": {},
     "output_type": "execute_result"
    }
   ],
   "source": [
    "output_file['Avg Performance'].sum()"
   ]
  },
  {
   "cell_type": "code",
   "execution_count": 224,
   "id": "cc58fb8d",
   "metadata": {},
   "outputs": [
    {
     "name": "stdout",
     "output_type": "stream",
     "text": [
      "['banana', 'orange', 'watermelon']\n"
     ]
    }
   ],
   "source": [
    "# comprehension list and lambda\n",
    "\n",
    "fruits = ['apple', 'banana', 'orange', 'watermelon', 'mango']\n",
    "f = [x for x in fruits if len(x)!=5]\n",
    "print(f)"
   ]
  },
  {
   "cell_type": "code",
   "execution_count": 237,
   "id": "10548467",
   "metadata": {},
   "outputs": [
    {
     "name": "stdout",
     "output_type": "stream",
     "text": [
      "[1, 4, 9, 16, 25]\n"
     ]
    }
   ],
   "source": [
    "b=[1,2,3,4,5]\n",
    "b2 = [i*i for i in b]\n",
    "print(b2)"
   ]
  },
  {
   "cell_type": "code",
   "execution_count": 235,
   "id": "3a92f604",
   "metadata": {},
   "outputs": [
    {
     "name": "stdout",
     "output_type": "stream",
     "text": [
      "25\n"
     ]
    }
   ],
   "source": [
    "def square(L):\n",
    "    L2 = lambda L : L*L\n",
    "    result = L2(L)\n",
    "    print(result)\n",
    "\n",
    "a = 5\n",
    "square(a)"
   ]
  },
  {
   "cell_type": "code",
   "execution_count": 43,
   "id": "b080bae5",
   "metadata": {},
   "outputs": [
    {
     "name": "stdout",
     "output_type": "stream",
     "text": [
      "   Unnamed: 0      name  gender   age   years\n",
      "0           0  niranjan       m    21       2\n",
      "   Unnamed: 0      name  gender   age   years\n",
      "0           0  niranjan       m    21       2\n",
      "1           1  mahendar       m    22       3\n",
      "2           2       vel       m    21       4\n",
      "3           3   jayanth       m    16       5\n",
      "4           4     mukul       m    15       6\n"
     ]
    }
   ],
   "source": [
    "import pandas as pd\n",
    "\n",
    "class Employee():\n",
    "    def __init__(self, details):\n",
    "        self.details = details\n",
    "        \n",
    "    def show_emp(self, name):\n",
    "        print(self.details[self.details['name'] == name])\n",
    "        \n",
    "    def showall(self):\n",
    "        print(self.details)\n",
    "\n",
    "EmployeeDetails = pd.read_csv('EmployeeDetails.csv')\n",
    "\n",
    "obj = Employee(EmployeeDetails)\n",
    "\n",
    "obj.show_emp('niranjan') \n",
    "\n",
    "obj.showall()"
   ]
  },
  {
   "cell_type": "code",
   "execution_count": 55,
   "id": "c3790e35",
   "metadata": {},
   "outputs": [
    {
     "name": "stdout",
     "output_type": "stream",
     "text": [
      "1001\n",
      "dict_values(['1001', 'mahendar', ' m', '22', '3'])\n"
     ]
    }
   ],
   "source": [
    "import csv \n",
    "\n",
    "dic = {}\n",
    "\n",
    "EmployeeDetails = open('EmployeeDetails2.csv', 'r')\n",
    "data = csv.DictReader(EmployeeDetails)\n",
    "for i in data:\n",
    "    dic[i['employee id']] = i.values()\n",
    "\n",
    "EmployeeDetails.close()\n",
    "\n",
    "id = input()\n",
    "print(dic[id])"
   ]
  },
  {
   "cell_type": "code",
   "execution_count": 58,
   "id": "ad3d8bbe",
   "metadata": {},
   "outputs": [
    {
     "name": "stdout",
     "output_type": "stream",
     "text": [
      "dict_values(['1000', 'niranjan', ' m', '21', '2'])\n",
      "dict_values(['1001', 'mahendar', ' m', '22', '3'])\n",
      "dict_values(['1002', 'vel', ' m', '21', '4'])\n",
      "dict_values(['1003', 'jayanth', ' m', '16', '5'])\n",
      "dict_values(['1004', 'mukul', ' m', '15', '6'])\n"
     ]
    }
   ],
   "source": [
    "for i in dic:\n",
    "    print(dic[i])"
   ]
  },
  {
   "cell_type": "markdown",
   "id": "db0d8a11",
   "metadata": {},
   "source": [
    "### DAY - 5"
   ]
  },
  {
   "cell_type": "code",
   "execution_count": 9,
   "id": "8f18df10",
   "metadata": {},
   "outputs": [],
   "source": [
    "import requests\n",
    "import csv\n",
    "\n",
    "api_url = \"https://jsonplaceholder.typicode.com/posts\"\n",
    "response = requests.get(api_url)\n",
    "\n",
    "if response.status_code == 200:\n",
    "    data = response.json()\n",
    "\n",
    "    csv_file_path = \"api_data.csv\"  \n",
    "\n",
    "    with open(csv_file_path, \"w\", newline=\"\", encoding=\"utf-8\") as csv_file:\n",
    "        csv_writer = csv.writer(csv_file)\n",
    "        csv_writer.writerow([\"UserId\", \"Id\", \"Title\", \"Body\"])  \n",
    "\n",
    "        for item in data:\n",
    "            csv_writer.writerow([item[\"userId\"], item[\"id\"], item[\"title\"], item[\"body\"]])\n",
    "else:\n",
    "    print(\"Failed to fetch data from the API.\")"
   ]
  },
  {
   "cell_type": "markdown",
   "id": "9a5eba61",
   "metadata": {},
   "source": [
    "### DAY - 6"
   ]
  },
  {
   "cell_type": "code",
   "execution_count": 11,
   "id": "c66eea4b",
   "metadata": {},
   "outputs": [],
   "source": [
    "from PIL import Image, ImageOps\n",
    "\n",
    "def merge_images_side_by_side(image1_path, image2_path, output_path):\n",
    "    image1 = Image.open(image1_path)\n",
    "    image2 = Image.open(image2_path)\n",
    "    \n",
    "    merged_side_by_side = Image.new('RGB', (image1.width + image2.width, max(image1.height, image2.height)))\n",
    "    merged_side_by_side.paste(image1, (0, 0))\n",
    "    merged_side_by_side.paste(image2, (image1.width, 0))\n",
    "    \n",
    "    merged_side_by_side.save(output_path)\n",
    "\n",
    "def split_image(image_path, output_path1, output_path2):\n",
    "    image = Image.open(image_path)\n",
    "    width, height = image.size\n",
    "    \n",
    "    half_width = width // 2\n",
    "    left_half = image.crop((0, 0, half_width, height))\n",
    "    right_half = image.crop((half_width, 0, width, height))\n",
    "    \n",
    "    left_half.save(output_path1)\n",
    "    right_half.save(output_path2)\n",
    "\n",
    "def crop_image(image_path, output_path, x, y, width, height):\n",
    "    image = Image.open(image_path)\n",
    "    cropped_image = image.crop((x, y, x + width, y + height))\n",
    "    cropped_image.save(output_path)\n",
    "\n",
    "def tilt_page(image_path, output_path, angle):\n",
    "    image = Image.open(image_path)\n",
    "    rotated_image = image.rotate(angle, expand=True)\n",
    "    rotated_image.save(output_path)\n",
    "\n",
    "merge_images_side_by_side('image1.jpeg', 'image2.jpeg', 'merged_side_by_side.jpg')\n",
    "split_image('road.jpg', 'left_half.jpg', 'right_half.jpg')\n",
    "crop_image('image1.jpeg', 'cropped_image.jpg', x=100, y=100, width=200, height=200)\n",
    "tilt_page('image1.jpeg', 'tilted_page.jpg', angle=30)"
   ]
  },
  {
   "cell_type": "code",
   "execution_count": 18,
   "id": "ede2a468",
   "metadata": {},
   "outputs": [],
   "source": [
    "# pip install pdf2image\n",
    "\n",
    "from pdf2image import convert_from_path\n",
    "\n",
    "def convert_pdf_to_jpeg(pdf_path, output_folder):\n",
    "    images = convert_from_path(pdf_path)\n",
    "    for i, image in enumerate(images):\n",
    "        image.save(f'{output_folder}/page_{i + 1}.jpg', 'JPEG')\n",
    "\n",
    "convert_pdf_to_jpeg('Freshres Plan.pdf', '/home/niranjan/Desktop/SecureKloud/pdf to jpg/')"
   ]
  },
  {
   "cell_type": "code",
   "execution_count": 24,
   "id": "823dd3bf",
   "metadata": {},
   "outputs": [],
   "source": [
    "import os\n",
    "import img2pdf\n",
    "\n",
    "def convert_images_to_pdf(image_folder, output_pdf_path):\n",
    "    image_files = [filename for filename in os.listdir(image_folder) if filename.endswith('.jpg')]\n",
    "    image_paths = [os.path.join(image_folder, filename) for filename in image_files]\n",
    "    \n",
    "    with open(output_pdf_path, \"wb\") as pdf_file:\n",
    "        pdf_file.write(img2pdf.convert(image_paths))\n",
    "\n",
    "convert_images_to_pdf('/home/niranjan/Desktop/SecureKloud/pdf to jpg/',\n",
    "                      '/home/niranjan/Desktop/SecureKloud/pdf to jpg/output.pdf')"
   ]
  },
  {
   "cell_type": "markdown",
   "id": "a0a48118",
   "metadata": {},
   "source": [
    "### DAY - 7 and 8"
   ]
  },
  {
   "cell_type": "code",
   "execution_count": 1,
   "id": "204e1487",
   "metadata": {},
   "outputs": [
    {
     "name": "stdout",
     "output_type": "stream",
     "text": [
      "ML model\n"
     ]
    }
   ],
   "source": [
    "print('ML model')"
   ]
  },
  {
   "cell_type": "markdown",
   "id": "2654e1ed",
   "metadata": {},
   "source": [
    "### DAY - 9"
   ]
  },
  {
   "cell_type": "code",
   "execution_count": 27,
   "id": "e06980d9",
   "metadata": {},
   "outputs": [
    {
     "name": "stdout",
     "output_type": "stream",
     "text": [
      "<class 'bytes'>\n",
      "<class 'str'>\n",
      "Encoded bytes = b'Hello'\n",
      "Decoded String = Hello\n",
      "str_original equals str_decoded = True\n"
     ]
    }
   ],
   "source": [
    "original = 'Hello'\n",
    "\n",
    "encoded = original.encode(encoding='utf-8')\n",
    "print(type(encoded))\n",
    "\n",
    "str_decoded = encoded.decode()\n",
    "print(type(str_decoded))\n",
    "\n",
    "print('Encoded bytes =', encoded)\n",
    "print('Decoded String =', str_decoded)\n",
    "print('str_original equals str_decoded =', original == str_decoded)"
   ]
  },
  {
   "cell_type": "code",
   "execution_count": 31,
   "id": "6b681992",
   "metadata": {},
   "outputs": [
    {
     "name": "stdout",
     "output_type": "stream",
     "text": [
      "UTF-8: Hi this is me\n",
      "UTF-16: Hi this is me\n",
      "UTF-32: Hi this is me\n",
      "UTF-8 with BOM: ﻿Hi this is me\n"
     ]
    }
   ],
   "source": [
    "def write_text_to_file(text, file_path, encoding='utf-8'):\n",
    "    with open(file_path, 'w', encoding=encoding) as file:\n",
    "        file.write(text)\n",
    "\n",
    "def read_text_from_file(file_path, encoding='utf-8'):\n",
    "    with open(file_path, 'r', encoding=encoding) as file:\n",
    "        return file.read()\n",
    "\n",
    "text = \"Hi this is me\"\n",
    "\n",
    "write_text_to_file(text, 'utf8.txt', encoding='utf-8')\n",
    "write_text_to_file(text, 'utf16.txt', encoding='utf-16')\n",
    "write_text_to_file(text, 'utf32.txt', encoding='utf-32')\n",
    "write_text_to_file('\\ufeff' + text, 'utf8_bom.txt', encoding='utf-8-sig')\n",
    "\n",
    "print(\"UTF-8:\", read_text_from_file('utf8.txt', encoding='utf-8'))\n",
    "print(\"UTF-16:\", read_text_from_file('utf16.txt', encoding='utf-16'))\n",
    "print(\"UTF-32:\", read_text_from_file('utf32.txt', encoding='utf-32'))\n",
    "print(\"UTF-8 with BOM:\", read_text_from_file('utf8_bom.txt', encoding='utf-8-sig'))"
   ]
  },
  {
   "cell_type": "code",
   "execution_count": 48,
   "id": "9e1c0d91",
   "metadata": {},
   "outputs": [
    {
     "name": "stdout",
     "output_type": "stream",
     "text": [
      "あきら: こんにちは、さちこさん。げんきですか？\n",
      "さちこ: こんにちは、あきらくん。はい、げんきですよ。さいきんなにしてましたか？\n",
      "あきら: さいきん、だいがくのべんきょうにいそがしかったです。でも、たのしいこともありました。\n",
      "さちこ: それはよかったですね。わたしもしごとがいそがしいですが、ともだちとカフェにいくじかんもたのしんでいます。\n",
      "あきら: カフェでなにをのみますか？\n",
      "さちこ: コーヒーがすきです。でも、ときどきこうちゃものみます。あなたは？\n",
      "あきら: ぼくもコーヒーがすきです。ラテがおきにいりです。\n",
      "さちこ: あ、ラテもおいしいですよね。せんしゅう、あたらしいラテのあじをためしました。とてもおいしかったです。\n",
      "あきら: それはいいけいけんですね。じかいいくときには、それをためしてみたいです。\n",
      "さちこ: ぜひためしてみてください。ほかにはなにかあたらしいことをしていますか？\n",
      "あきら: はい、さいきんともだちといっしょにえいがをみにいきました。おもしろいえいがでしたよ。\n",
      "さちこ: えいがもたのしいですね。わたしもえいがかんにいってみたいです。どんなえいがでしたか？\n",
      "あきら: アクションとぼうけんがつまったえいがでした。ストーリーがおもしろく、とくしゅこうかもすごかったです。\n",
      "さちこ: それはみてみたいです。じかいのやすみにともだちといっしょにいってみようかな。\n",
      "あきら: ぜひいってみてください。たのしいじかんをすごせるとおもいますよ。\n",
      "\n"
     ]
    }
   ],
   "source": [
    "text = []\n",
    "japanese_data = open('japanesetext.txt', 'r')   \n",
    "for i in japanese_data.readlines():\n",
    "    text.append(i)\n",
    "\n",
    "output = open('japanese_output_file.txt', 'w')\n",
    "for i in text:\n",
    "    output.writelines(i)\n",
    "    \n",
    "read_file = open('japanese_output_file.txt', 'r')\n",
    "print(read_file.read())"
   ]
  },
  {
   "cell_type": "markdown",
   "id": "2c88a468",
   "metadata": {},
   "source": [
    "### DAY - 10"
   ]
  },
  {
   "cell_type": "code",
   "execution_count": 49,
   "id": "4ca6bf5a",
   "metadata": {},
   "outputs": [],
   "source": [
    "# Excel basics"
   ]
  },
  {
   "cell_type": "code",
   "execution_count": null,
   "id": "df12a757",
   "metadata": {},
   "outputs": [],
   "source": []
  }
 ],
 "metadata": {
  "kernelspec": {
   "display_name": "Python 3 (ipykernel)",
   "language": "python",
   "name": "python3"
  },
  "language_info": {
   "codemirror_mode": {
    "name": "ipython",
    "version": 3
   },
   "file_extension": ".py",
   "mimetype": "text/x-python",
   "name": "python",
   "nbconvert_exporter": "python",
   "pygments_lexer": "ipython3",
   "version": "3.8.10"
  }
 },
 "nbformat": 4,
 "nbformat_minor": 5
}
